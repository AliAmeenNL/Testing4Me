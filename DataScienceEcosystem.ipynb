{
 "cells": [
  {
   "cell_type": "markdown",
   "id": "05aa8040-c6c5-4751-b006-8bcc61ff1916",
   "metadata": {},
   "source": [
    "# Data Science Tools and Ecosystem"
   ]
  },
  {
   "cell_type": "markdown",
   "id": "5d8b074a-62df-4518-bae6-c94005de8ce6",
   "metadata": {},
   "source": [
    "## In this notebook, Data Science Tools and Ecosystem are summarized."
   ]
  },
  {
   "cell_type": "markdown",
   "id": "3593eefc-7169-4924-a78c-ea1d814efb4f",
   "metadata": {},
   "source": [
    "**Objectives:**"
   ]
  },
  {
   "cell_type": "markdown",
   "id": "52e364c8-5168-404e-bdd8-12e4913e5ff9",
   "metadata": {},
   "source": [
    "- Create value for stakeholders by improving business operations and driving innovation\n",
    "- Matplotlib Extract insights and knowledge from data using scientific and statistical methods\n",
    "- Use data-driven insights to make informed decisions and solve real-world problemsLearn"
   ]
  },
  {
   "cell_type": "markdown",
   "id": "80799342-3bd5-4527-bebe-5656d570b0f5",
   "metadata": {},
   "source": [
    "### Some of the popular languages that Data Scientists use are:"
   ]
  },
  {
   "cell_type": "markdown",
   "id": "988cd29e-82e7-4525-bff9-eb488bd60a6f",
   "metadata": {},
   "source": [
    "1. R Studio\n",
    "2. Pytho\n",
    "3. Julia"
   ]
  },
  {
   "cell_type": "markdown",
   "id": "67768055-35ba-42d4-8bc5-0b7090c47ef5",
   "metadata": {},
   "source": [
    "### Some of the commonly used libraries used by Data Scientists include:"
   ]
  },
  {
   "cell_type": "markdown",
   "id": "33ae6a96-7f74-4a2d-a2b9-99bffb2c8362",
   "metadata": {},
   "source": [
    "- TensorFlow\n",
    "- NumPy\n",
    "- SciPy \n",
    "- Pandas\n",
    "- Matplotlib \n",
    "- Keras\n",
    "- SciKit-Learn\n",
    "- PyTorch"
   ]
  },
  {
   "cell_type": "markdown",
   "id": "cb9ce40c-b25d-4d5f-aec4-2a7c92781010",
   "metadata": {},
   "source": [
    "| Data Science Tool |   |\n",
    "| ----------- | ----------- |\n",
    "| Tool | Description |\n",
    "| Data Visualization Tools | Tableau, Power BI , Matplotlib |\n",
    "| Machine Learning Libraries | Scikit-learn, TensorFlow,Keras | \n",
    "| Cloud Platforms  | Amazon Web Services (AWS),Microsoft Azure | "
   ]
  },
  {
   "cell_type": "markdown",
   "id": "29ee5607-ff9a-4ab4-9495-14ceb0b768d0",
   "metadata": {},
   "source": [
    "### Below are a few examples of evaluating arithmetic expressions in Python"
   ]
  },
  {
   "cell_type": "markdown",
   "id": "79ecdeae-969f-494d-a38d-fd2e616baa6d",
   "metadata": {},
   "source": [
    "*This a simple arithmetic expression to mutiply then add integers.* "
   ]
  },
  {
   "cell_type": "code",
   "execution_count": 6,
   "id": "a750d1f9-4d72-4c54-b1a9-123bbfc02835",
   "metadata": {},
   "outputs": [
    {
     "name": "stdout",
     "output_type": "stream",
     "text": [
      "8+2 = 10\n",
      "8-2 = 6\n",
      "8X2 = 16\n",
      "8/2 = 4.0\n"
     ]
    }
   ],
   "source": [
    "print ('8+2','=',8+2)\n",
    "print ('8-2','=',8-2)\n",
    "print ('8X2','=',8*2)\n",
    "print ('8/2','=',8/2)"
   ]
  },
  {
   "cell_type": "markdown",
   "id": "b61e8c68-ab9f-466e-b58e-1bfdecdbaaf2",
   "metadata": {},
   "source": [
    "## Converts 200 minutes into hours"
   ]
  },
  {
   "cell_type": "markdown",
   "id": "52800d08-bcd3-45d4-99cc-4abff358f617",
   "metadata": {},
   "source": [
    "*This will convert 200 minutes to hours by diving by 60*"
   ]
  },
  {
   "cell_type": "code",
   "execution_count": 9,
   "id": "68515de6-5466-4cc6-98d7-0f514444fae5",
   "metadata": {},
   "outputs": [
    {
     "name": "stdout",
     "output_type": "stream",
     "text": [
      "200 minutes is equal to 3.3333333333333335 hours\n"
     ]
    }
   ],
   "source": [
    "minutes = 200\n",
    "hours = minutes / 60\n",
    "\n",
    "print(\"200 minutes is equal to\", hours, \"hours\")"
   ]
  },
  {
   "cell_type": "markdown",
   "id": "2fa8aa60-af86-4b87-ab0c-c996f5375e63",
   "metadata": {},
   "source": [
    "## Author"
   ]
  },
  {
   "cell_type": "markdown",
   "id": "28c81fcb-1959-47af-b706-26b8b515dd43",
   "metadata": {},
   "source": [
    "**Ali Ameen**"
   ]
  },
  {
   "cell_type": "code",
   "execution_count": null,
   "id": "d30e17fd-ab8f-480e-ac19-b78c7ef09445",
   "metadata": {},
   "outputs": [],
   "source": []
  }
 ],
 "metadata": {
  "kernelspec": {
   "display_name": "Python",
   "language": "python",
   "name": "conda-env-python-py"
  },
  "language_info": {
   "codemirror_mode": {
    "name": "ipython",
    "version": 3
   },
   "file_extension": ".py",
   "mimetype": "text/x-python",
   "name": "python",
   "nbconvert_exporter": "python",
   "pygments_lexer": "ipython3",
   "version": "3.7.12"
  }
 },
 "nbformat": 4,
 "nbformat_minor": 5
}
